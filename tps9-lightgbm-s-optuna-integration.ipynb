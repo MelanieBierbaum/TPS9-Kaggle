{
 "cells": [
  {
   "cell_type": "code",
   "execution_count": 1,
   "id": "810670de",
   "metadata": {
    "_cell_guid": "b1076dfc-b9ad-4769-8c92-a6c4dae69d19",
    "_uuid": "8f2839f25d086af736a60e9eeb907d3b93b6e0e5",
    "execution": {
     "iopub.execute_input": "2021-09-26T09:47:33.132554Z",
     "iopub.status.busy": "2021-09-26T09:47:33.131245Z",
     "iopub.status.idle": "2021-09-26T09:47:35.983630Z",
     "shell.execute_reply": "2021-09-26T09:47:35.984128Z",
     "shell.execute_reply.started": "2021-09-26T08:53:25.154021Z"
    },
    "papermill": {
     "duration": 2.881119,
     "end_time": "2021-09-26T09:47:35.984423",
     "exception": false,
     "start_time": "2021-09-26T09:47:33.103304",
     "status": "completed"
    },
    "tags": []
   },
   "outputs": [
    {
     "name": "stdout",
     "output_type": "stream",
     "text": [
      "scikit-learn version: 0.23.2\n"
     ]
    },
    {
     "data": {
      "text/html": [
       "<style type='text/css'>\n",
       ".datatable table.frame { margin-bottom: 0; }\n",
       ".datatable table.frame thead { border-bottom: none; }\n",
       ".datatable table.frame tr.coltypes td {  color: #FFFFFF;  line-height: 6px;  padding: 0 0.5em;}\n",
       ".datatable .bool    { background: #DDDD99; }\n",
       ".datatable .object  { background: #565656; }\n",
       ".datatable .int     { background: #5D9E5D; }\n",
       ".datatable .float   { background: #4040CC; }\n",
       ".datatable .str     { background: #CC4040; }\n",
       ".datatable .time    { background: #40CC40; }\n",
       ".datatable .row_index {  background: var(--jp-border-color3);  border-right: 1px solid var(--jp-border-color0);  color: var(--jp-ui-font-color3);  font-size: 9px;}\n",
       ".datatable .frame tbody td { text-align: left; }\n",
       ".datatable .frame tr.coltypes .row_index {  background: var(--jp-border-color0);}\n",
       ".datatable th:nth-child(2) { padding-left: 12px; }\n",
       ".datatable .hellipsis {  color: var(--jp-cell-editor-border-color);}\n",
       ".datatable .vellipsis {  background: var(--jp-layout-color0);  color: var(--jp-cell-editor-border-color);}\n",
       ".datatable .na {  color: var(--jp-cell-editor-border-color);  font-size: 80%;}\n",
       ".datatable .sp {  opacity: 0.25;}\n",
       ".datatable .footer { font-size: 9px; }\n",
       ".datatable .frame_dimensions {  background: var(--jp-border-color3);  border-top: 1px solid var(--jp-border-color0);  color: var(--jp-ui-font-color3);  display: inline-block;  opacity: 0.6;  padding: 1px 10px 1px 5px;}\n",
       "</style>\n"
      ],
      "text/plain": [
       "<IPython.core.display.HTML object>"
      ]
     },
     "metadata": {},
     "output_type": "display_data"
    },
    {
     "name": "stdout",
     "output_type": "stream",
     "text": [
      "Optuna version:  2.9.1\n",
      "/kaggle/input/tabular-playground-series-sep-2021/train.csv\n",
      "/kaggle/input/tabular-playground-series-sep-2021/test.csv\n",
      "/kaggle/input/tabular-playground-series-sep-2021/sample_solution.csv\n"
     ]
    }
   ],
   "source": [
    "# This Python 3 environment comes with many helpful analytics libraries installed\n",
    "# It is defined by the kaggle/python Docker image: https://github.com/kaggle/docker-python\n",
    "# For example, here's several helpful packages to load\n",
    "\n",
    "import numpy as np # linear algebra\n",
    "import pandas as pd # data processing, CSV file I/O (e.g. pd.read_csv)\n",
    "\n",
    "import sklearn\n",
    "from sklearn.model_selection import train_test_split\n",
    "from sklearn.metrics import roc_auc_score\n",
    "print(\"scikit-learn version: {}\". format(sklearn.__version__))\n",
    "\n",
    "import optuna\n",
    "import optuna.integration.lightgbm as lgb\n",
    "print(\"Optuna version:  {}\".format(optuna.__version__))\n",
    "\n",
    "# Input data files are available in the read-only \"../input/\" directory\n",
    "# For example, running this (by clicking run or pressing Shift+Enter) will list all files under the input directory\n",
    "\n",
    "import os\n",
    "for dirname, _, filenames in os.walk('/kaggle/input'):\n",
    "    for filename in filenames:\n",
    "        print(os.path.join(dirname, filename))\n",
    "\n",
    "# You can write up to 20GB to the current directory (/kaggle/working/) that gets preserved as output when you create a version using \"Save & Run All\" \n",
    "# You can also write temporary files to /kaggle/temp/, but they won't be saved outside of the current session"
   ]
  },
  {
   "cell_type": "code",
   "execution_count": 2,
   "id": "3c4ed801",
   "metadata": {
    "execution": {
     "iopub.execute_input": "2021-09-26T09:47:36.039689Z",
     "iopub.status.busy": "2021-09-26T09:47:36.039024Z",
     "iopub.status.idle": "2021-09-26T09:48:23.066376Z",
     "shell.execute_reply": "2021-09-26T09:48:23.065829Z",
     "shell.execute_reply.started": "2021-09-26T08:53:27.835134Z"
    },
    "papermill": {
     "duration": 47.057426,
     "end_time": "2021-09-26T09:48:23.066523",
     "exception": false,
     "start_time": "2021-09-26T09:47:36.009097",
     "status": "completed"
    },
    "tags": []
   },
   "outputs": [],
   "source": [
    "# read input files\n",
    "df_train = pd.read_csv(\"../input/tabular-playground-series-sep-2021/train.csv\")\n",
    "df_test = pd.read_csv(\"../input/tabular-playground-series-sep-2021/test.csv\")\n",
    "sample_submission = pd.read_csv(\"../input/tabular-playground-series-sep-2021/sample_solution.csv\")\n",
    "\n",
    "feature_cols = [col for col in df_train.columns if col.startswith(\"f\")]\n",
    "target=df_train.claim\n",
    "\n",
    "# adding the magic feature, see https://www.kaggle.com/c/tabular-playground-series-sep-2021/discussion/270206\n",
    "df_train['NaNs'] = df_train[feature_cols].isna().sum(axis=1)\n",
    "df_test['NaNs'] = df_test[feature_cols].isna().sum(axis=1)\n",
    "feature_cols += ['NaNs']"
   ]
  },
  {
   "cell_type": "code",
   "execution_count": 3,
   "id": "0e27a799",
   "metadata": {
    "execution": {
     "iopub.execute_input": "2021-09-26T09:48:23.117104Z",
     "iopub.status.busy": "2021-09-26T09:48:23.116420Z",
     "iopub.status.idle": "2021-09-26T09:48:25.413785Z",
     "shell.execute_reply": "2021-09-26T09:48:25.413168Z",
     "shell.execute_reply.started": "2021-09-26T08:55:47.514693Z"
    },
    "papermill": {
     "duration": 2.323711,
     "end_time": "2021-09-26T09:48:25.413938",
     "exception": false,
     "start_time": "2021-09-26T09:48:23.090227",
     "status": "completed"
    },
    "tags": []
   },
   "outputs": [
    {
     "data": {
      "text/plain": [
       "(718439, 119)"
      ]
     },
     "metadata": {},
     "output_type": "display_data"
    }
   ],
   "source": [
    "# dividing X, y into train and test data\n",
    "X = df_train[feature_cols]\n",
    "y = df_train.claim\n",
    "X_train, X_val, y_train, y_val = train_test_split(X, y, random_state = 29, stratify=y)\n",
    "display(X_train.shape)"
   ]
  },
  {
   "cell_type": "code",
   "execution_count": 4,
   "id": "c7099f2d",
   "metadata": {
    "execution": {
     "iopub.execute_input": "2021-09-26T09:48:25.466986Z",
     "iopub.status.busy": "2021-09-26T09:48:25.466000Z",
     "iopub.status.idle": "2021-09-26T09:48:25.468790Z",
     "shell.execute_reply": "2021-09-26T09:48:25.468288Z",
     "shell.execute_reply.started": "2021-09-26T08:55:49.748367Z"
    },
    "papermill": {
     "duration": 0.031405,
     "end_time": "2021-09-26T09:48:25.468954",
     "exception": false,
     "start_time": "2021-09-26T09:48:25.437549",
     "status": "completed"
    },
    "tags": []
   },
   "outputs": [],
   "source": [
    "dtrain = lgb.Dataset(X_train, label=y_train)\n",
    "dval = lgb.Dataset(X_val, label=y_val)"
   ]
  },
  {
   "cell_type": "markdown",
   "id": "23f7d73b",
   "metadata": {
    "papermill": {
     "duration": 0.02311,
     "end_time": "2021-09-26T09:48:25.517079",
     "exception": false,
     "start_time": "2021-09-26T09:48:25.493969",
     "status": "completed"
    },
    "tags": []
   },
   "source": [
    "Here the optuna tuning round starts. \n",
    "The goal is to get the best hyperparameters. \n",
    "As tuning takes a long time I just saved the hyperparameters and trained a new LightGBM with those the next day."
   ]
  },
  {
   "cell_type": "code",
   "execution_count": 5,
   "id": "5a1bd05a",
   "metadata": {
    "execution": {
     "iopub.execute_input": "2021-09-26T09:48:25.567684Z",
     "iopub.status.busy": "2021-09-26T09:48:25.567058Z",
     "iopub.status.idle": "2021-09-26T09:48:25.570519Z",
     "shell.execute_reply": "2021-09-26T09:48:25.571040Z",
     "shell.execute_reply.started": "2021-09-24T07:45:36.028496Z"
    },
    "papermill": {
     "duration": 0.030704,
     "end_time": "2021-09-26T09:48:25.571213",
     "exception": false,
     "start_time": "2021-09-26T09:48:25.540509",
     "status": "completed"
    },
    "tags": []
   },
   "outputs": [],
   "source": [
    "params = {\n",
    "        \"objective\": \"binary\",\n",
    "        \"metric\": \"auc\",\n",
    "        \"verbosity\": -1,\n",
    "        \"boosting_type\": \"gbdt\",\n",
    "    }"
   ]
  },
  {
   "cell_type": "code",
   "execution_count": 6,
   "id": "3c2cd2ba",
   "metadata": {
    "execution": {
     "iopub.execute_input": "2021-09-26T09:48:25.622028Z",
     "iopub.status.busy": "2021-09-26T09:48:25.621383Z",
     "iopub.status.idle": "2021-09-26T09:48:25.624158Z",
     "shell.execute_reply": "2021-09-26T09:48:25.624678Z",
     "shell.execute_reply.started": "2021-09-24T07:45:36.035326Z"
    },
    "papermill": {
     "duration": 0.029974,
     "end_time": "2021-09-26T09:48:25.624843",
     "exception": false,
     "start_time": "2021-09-26T09:48:25.594869",
     "status": "completed"
    },
    "tags": []
   },
   "outputs": [],
   "source": [
    "#model = lgb.train(\n",
    "#        params, \n",
    "#        dtrain, \n",
    "#        valid_sets=[dtrain, dval], \n",
    "#        verbose_eval=100, \n",
    "#        early_stopping_rounds=100\n",
    "#    )"
   ]
  },
  {
   "cell_type": "code",
   "execution_count": 7,
   "id": "1f957a12",
   "metadata": {
    "execution": {
     "iopub.execute_input": "2021-09-26T09:48:25.676590Z",
     "iopub.status.busy": "2021-09-26T09:48:25.675242Z",
     "iopub.status.idle": "2021-09-26T09:48:25.678746Z",
     "shell.execute_reply": "2021-09-26T09:48:25.679238Z",
     "shell.execute_reply.started": "2021-09-24T07:45:36.048955Z"
    },
    "papermill": {
     "duration": 0.030787,
     "end_time": "2021-09-26T09:48:25.679401",
     "exception": false,
     "start_time": "2021-09-26T09:48:25.648614",
     "status": "completed"
    },
    "tags": []
   },
   "outputs": [],
   "source": [
    "#best_params = model.params\n",
    "#print(\"Best params:\", best_params)"
   ]
  },
  {
   "cell_type": "code",
   "execution_count": 8,
   "id": "66cbb483",
   "metadata": {
    "execution": {
     "iopub.execute_input": "2021-09-26T09:48:25.731274Z",
     "iopub.status.busy": "2021-09-26T09:48:25.730354Z",
     "iopub.status.idle": "2021-09-26T09:48:25.732559Z",
     "shell.execute_reply": "2021-09-26T09:48:25.733024Z",
     "shell.execute_reply.started": "2021-09-24T07:45:36.061268Z"
    },
    "papermill": {
     "duration": 0.030146,
     "end_time": "2021-09-26T09:48:25.733193",
     "exception": false,
     "start_time": "2021-09-26T09:48:25.703047",
     "status": "completed"
    },
    "tags": []
   },
   "outputs": [],
   "source": [
    "#print(\"  Params: \")\n",
    "#for key, value in best_params.items():\n",
    "#        print(\"    {}: {}\".format(key, value))"
   ]
  },
  {
   "cell_type": "code",
   "execution_count": 9,
   "id": "2113a719",
   "metadata": {
    "execution": {
     "iopub.execute_input": "2021-09-26T09:48:25.785402Z",
     "iopub.status.busy": "2021-09-26T09:48:25.784356Z",
     "iopub.status.idle": "2021-09-26T09:48:25.786349Z",
     "shell.execute_reply": "2021-09-26T09:48:25.786863Z",
     "shell.execute_reply.started": "2021-09-24T07:45:36.073772Z"
    },
    "papermill": {
     "duration": 0.030209,
     "end_time": "2021-09-26T09:48:25.787060",
     "exception": false,
     "start_time": "2021-09-26T09:48:25.756851",
     "status": "completed"
    },
    "tags": []
   },
   "outputs": [],
   "source": [
    "#pred_val = model.predict(X_val, num_iteration=model.best_iteration)\n",
    "#pred_val"
   ]
  },
  {
   "cell_type": "code",
   "execution_count": 10,
   "id": "ac8a3ae5",
   "metadata": {
    "execution": {
     "iopub.execute_input": "2021-09-26T09:48:25.838000Z",
     "iopub.status.busy": "2021-09-26T09:48:25.837037Z",
     "iopub.status.idle": "2021-09-26T09:48:25.840574Z",
     "shell.execute_reply": "2021-09-26T09:48:25.841066Z",
     "shell.execute_reply.started": "2021-09-24T07:45:36.085868Z"
    },
    "papermill": {
     "duration": 0.030556,
     "end_time": "2021-09-26T09:48:25.841245",
     "exception": false,
     "start_time": "2021-09-26T09:48:25.810689",
     "status": "completed"
    },
    "tags": []
   },
   "outputs": [],
   "source": [
    "#roc_auc_score(y_val, pred_val)"
   ]
  },
  {
   "cell_type": "markdown",
   "id": "2b875474",
   "metadata": {
    "papermill": {
     "duration": 0.023653,
     "end_time": "2021-09-26T09:48:25.888614",
     "exception": false,
     "start_time": "2021-09-26T09:48:25.864961",
     "status": "completed"
    },
    "tags": []
   },
   "source": [
    "New model with the tuned hyperparameters. Note: you could modifiy the code so that it runs in 1 Step only."
   ]
  },
  {
   "cell_type": "code",
   "execution_count": 11,
   "id": "aee2357c",
   "metadata": {
    "execution": {
     "iopub.execute_input": "2021-09-26T09:48:25.939699Z",
     "iopub.status.busy": "2021-09-26T09:48:25.938667Z",
     "iopub.status.idle": "2021-09-26T09:48:25.944049Z",
     "shell.execute_reply": "2021-09-26T09:48:25.944508Z",
     "shell.execute_reply.started": "2021-09-26T08:55:20.216720Z"
    },
    "papermill": {
     "duration": 0.032333,
     "end_time": "2021-09-26T09:48:25.944678",
     "exception": false,
     "start_time": "2021-09-26T09:48:25.912345",
     "status": "completed"
    },
    "tags": []
   },
   "outputs": [
    {
     "name": "stdout",
     "output_type": "stream",
     "text": [
      "LightGBM version:  3.2.1\n"
     ]
    }
   ],
   "source": [
    "import lightgbm as lgb\n",
    "print(\"LightGBM version:  {}\".format(lgb.__version__))"
   ]
  },
  {
   "cell_type": "code",
   "execution_count": 12,
   "id": "2555b529",
   "metadata": {
    "execution": {
     "iopub.execute_input": "2021-09-26T09:48:25.999475Z",
     "iopub.status.busy": "2021-09-26T09:48:25.998754Z",
     "iopub.status.idle": "2021-09-26T09:48:26.000649Z",
     "shell.execute_reply": "2021-09-26T09:48:26.001200Z",
     "shell.execute_reply.started": "2021-09-26T08:57:15.765866Z"
    },
    "papermill": {
     "duration": 0.032714,
     "end_time": "2021-09-26T09:48:26.001387",
     "exception": false,
     "start_time": "2021-09-26T09:48:25.968673",
     "status": "completed"
    },
    "tags": []
   },
   "outputs": [],
   "source": [
    "tuned_params = {'objective': 'binary', \n",
    "                'metric': 'auc', \n",
    "                #'verbosity': -1, \n",
    "                'boosting_type': 'gbdt', \n",
    "                #'feature_pre_filter': False, \n",
    "                'lambda_l1': 9.933190464117825, \n",
    "                'lambda_l2': 0.03251810602204929, \n",
    "                'num_leaves': 7, \n",
    "                'feature_fraction': 1.0, \n",
    "                'bagging_fraction': 0.8694099317439226, \n",
    "                'bagging_freq': 4, \n",
    "                'min_child_samples': 25, \n",
    "                'num_iterations': 2000 # 1000 from the tuner\n",
    "                }"
   ]
  },
  {
   "cell_type": "code",
   "execution_count": 13,
   "id": "74fc4705",
   "metadata": {
    "execution": {
     "iopub.execute_input": "2021-09-26T09:48:26.053162Z",
     "iopub.status.busy": "2021-09-26T09:48:26.052462Z",
     "iopub.status.idle": "2021-09-26T09:53:14.681008Z",
     "shell.execute_reply": "2021-09-26T09:53:14.682053Z",
     "shell.execute_reply.started": "2021-09-26T08:57:18.470358Z"
    },
    "papermill": {
     "duration": 288.657064,
     "end_time": "2021-09-26T09:53:14.682579",
     "exception": false,
     "start_time": "2021-09-26T09:48:26.025515",
     "status": "completed"
    },
    "tags": []
   },
   "outputs": [
    {
     "name": "stderr",
     "output_type": "stream",
     "text": [
      "/opt/conda/lib/python3.7/site-packages/lightgbm/engine.py:148: UserWarning: Found `num_iterations` in params. Will use it instead of argument\n",
      "  _log_warning(\"Found `{}` in params. Will use it instead of argument\".format(alias))\n"
     ]
    },
    {
     "name": "stdout",
     "output_type": "stream",
     "text": [
      "[LightGBM] [Info] Number of positive: 358136, number of negative: 360303\n",
      "[LightGBM] [Warning] Auto-choosing col-wise multi-threading, the overhead of testing was 0.699176 seconds.\n",
      "You can set `force_col_wise=true` to remove the overhead.\n",
      "[LightGBM] [Info] Total Bins 30090\n",
      "[LightGBM] [Info] Number of data points in the train set: 718439, number of used features: 119\n",
      "[LightGBM] [Info] [binary:BoostFromScore]: pavg=0.498492 -> initscore=-0.006033\n",
      "[LightGBM] [Info] Start training from score -0.006033\n",
      "Training until validation scores don't improve for 100 rounds\n",
      "[50]\ttrain's auc: 0.809815\tval's auc: 0.808547\n",
      "[100]\ttrain's auc: 0.813841\tval's auc: 0.811498\n",
      "[150]\ttrain's auc: 0.815789\tval's auc: 0.812888\n",
      "[200]\ttrain's auc: 0.817091\tval's auc: 0.813546\n",
      "[250]\ttrain's auc: 0.818141\tval's auc: 0.814126\n",
      "[300]\ttrain's auc: 0.819136\tval's auc: 0.814518\n",
      "[350]\ttrain's auc: 0.819984\tval's auc: 0.814735\n",
      "[400]\ttrain's auc: 0.820852\tval's auc: 0.814836\n",
      "[450]\ttrain's auc: 0.821726\tval's auc: 0.815036\n",
      "[500]\ttrain's auc: 0.822504\tval's auc: 0.815128\n",
      "[550]\ttrain's auc: 0.823275\tval's auc: 0.815175\n",
      "[600]\ttrain's auc: 0.824037\tval's auc: 0.815261\n",
      "[650]\ttrain's auc: 0.824792\tval's auc: 0.815355\n",
      "[700]\ttrain's auc: 0.825521\tval's auc: 0.815451\n",
      "[750]\ttrain's auc: 0.826283\tval's auc: 0.815522\n",
      "[800]\ttrain's auc: 0.826995\tval's auc: 0.815578\n",
      "[850]\ttrain's auc: 0.827666\tval's auc: 0.815637\n",
      "[900]\ttrain's auc: 0.828369\tval's auc: 0.815704\n",
      "[950]\ttrain's auc: 0.829047\tval's auc: 0.815757\n",
      "[1000]\ttrain's auc: 0.829732\tval's auc: 0.815778\n",
      "[1050]\ttrain's auc: 0.830418\tval's auc: 0.815791\n",
      "[1100]\ttrain's auc: 0.831131\tval's auc: 0.815887\n",
      "[1150]\ttrain's auc: 0.831758\tval's auc: 0.815907\n",
      "[1200]\ttrain's auc: 0.832406\tval's auc: 0.815925\n",
      "[1250]\ttrain's auc: 0.833056\tval's auc: 0.816008\n",
      "[1300]\ttrain's auc: 0.833691\tval's auc: 0.815957\n",
      "[1350]\ttrain's auc: 0.834316\tval's auc: 0.815962\n",
      "Early stopping, best iteration is:\n",
      "[1252]\ttrain's auc: 0.83308\tval's auc: 0.816012\n"
     ]
    }
   ],
   "source": [
    "model = lgb.train(\n",
    "        tuned_params, \n",
    "        dtrain, \n",
    "        valid_sets=[dtrain, dval], \n",
    "        valid_names=['train','val'],\n",
    "        verbose_eval=50,\n",
    "        early_stopping_rounds=100\n",
    "    )"
   ]
  },
  {
   "cell_type": "code",
   "execution_count": 14,
   "id": "fe0eb26d",
   "metadata": {
    "execution": {
     "iopub.execute_input": "2021-09-26T09:53:14.762600Z",
     "iopub.status.busy": "2021-09-26T09:53:14.761842Z",
     "iopub.status.idle": "2021-09-26T09:53:26.082306Z",
     "shell.execute_reply": "2021-09-26T09:53:26.083036Z",
     "shell.execute_reply.started": "2021-09-26T09:24:34.814715Z"
    },
    "papermill": {
     "duration": 11.364883,
     "end_time": "2021-09-26T09:53:26.083310",
     "exception": false,
     "start_time": "2021-09-26T09:53:14.718427",
     "status": "completed"
    },
    "tags": []
   },
   "outputs": [
    {
     "data": {
      "text/plain": [
       "array([0.59348021, 0.12073744, 0.60949489, ..., 0.75826761, 0.13788943,\n",
       "       0.75448029])"
      ]
     },
     "execution_count": 14,
     "metadata": {},
     "output_type": "execute_result"
    }
   ],
   "source": [
    "prediction = model.predict(df_test[feature_cols]) # gives a probability!\n",
    "prediction"
   ]
  },
  {
   "cell_type": "code",
   "execution_count": 15,
   "id": "4b275e9e",
   "metadata": {
    "execution": {
     "iopub.execute_input": "2021-09-26T09:53:26.161530Z",
     "iopub.status.busy": "2021-09-26T09:53:26.160595Z",
     "iopub.status.idle": "2021-09-26T09:53:26.163428Z",
     "shell.execute_reply": "2021-09-26T09:53:26.162835Z",
     "shell.execute_reply.started": "2021-09-24T07:45:36.136905Z"
    },
    "papermill": {
     "duration": 0.043263,
     "end_time": "2021-09-26T09:53:26.163568",
     "exception": false,
     "start_time": "2021-09-26T09:53:26.120305",
     "status": "completed"
    },
    "tags": []
   },
   "outputs": [],
   "source": [
    "#lgb.plot_metric(model, metric=\"auc\", figsize=(14,8))"
   ]
  },
  {
   "cell_type": "code",
   "execution_count": 16,
   "id": "c343071d",
   "metadata": {
    "execution": {
     "iopub.execute_input": "2021-09-26T09:53:26.264511Z",
     "iopub.status.busy": "2021-09-26T09:53:26.263812Z",
     "iopub.status.idle": "2021-09-26T09:53:28.817809Z",
     "shell.execute_reply": "2021-09-26T09:53:28.818329Z",
     "shell.execute_reply.started": "2021-09-24T07:54:20.410729Z"
    },
    "papermill": {
     "duration": 2.61984,
     "end_time": "2021-09-26T09:53:28.818509",
     "exception": false,
     "start_time": "2021-09-26T09:53:26.198669",
     "status": "completed"
    },
    "tags": []
   },
   "outputs": [
    {
     "data": {
      "text/plain": [
       "<AxesSubplot:title={'center':'Feature importance'}, xlabel='Feature importance', ylabel='Features'>"
      ]
     },
     "execution_count": 16,
     "metadata": {},
     "output_type": "execute_result"
    },
    {
     "data": {
      "image/png": "[encoded data removed]",
      "text/plain": [
       "<Figure size 1152x1728 with 1 Axes>"
      ]
     },
     "metadata": {
      "needs_background": "light"
     },
     "output_type": "display_data"
    }
   ],
   "source": [
    "lgb.plot_importance(model, figsize=(16,24))"
   ]
  },
  {
   "cell_type": "code",
   "execution_count": 17,
   "id": "dfbb72c9",
   "metadata": {
    "execution": {
     "iopub.execute_input": "2021-09-26T09:53:28.902830Z",
     "iopub.status.busy": "2021-09-26T09:53:28.901478Z",
     "iopub.status.idle": "2021-09-26T09:53:30.784011Z",
     "shell.execute_reply": "2021-09-26T09:53:30.783457Z",
     "shell.execute_reply.started": "2021-09-26T09:45:13.297380Z"
    },
    "papermill": {
     "duration": 1.927294,
     "end_time": "2021-09-26T09:53:30.784179",
     "exception": false,
     "start_time": "2021-09-26T09:53:28.856885",
     "status": "completed"
    },
    "tags": []
   },
   "outputs": [
    {
     "data": {
      "text/html": [
       "<div>\n",
       "<style scoped>\n",
       "    .dataframe tbody tr th:only-of-type {\n",
       "        vertical-align: middle;\n",
       "    }\n",
       "\n",
       "    .dataframe tbody tr th {\n",
       "        vertical-align: top;\n",
       "    }\n",
       "\n",
       "    .dataframe thead th {\n",
       "        text-align: right;\n",
       "    }\n",
       "</style>\n",
       "<table border=\"1\" class=\"dataframe\">\n",
       "  <thead>\n",
       "    <tr style=\"text-align: right;\">\n",
       "      <th></th>\n",
       "      <th>id</th>\n",
       "      <th>claim</th>\n",
       "    </tr>\n",
       "  </thead>\n",
       "  <tbody>\n",
       "    <tr>\n",
       "      <th>0</th>\n",
       "      <td>957919</td>\n",
       "      <td>0.593480</td>\n",
       "    </tr>\n",
       "    <tr>\n",
       "      <th>1</th>\n",
       "      <td>957920</td>\n",
       "      <td>0.120737</td>\n",
       "    </tr>\n",
       "    <tr>\n",
       "      <th>2</th>\n",
       "      <td>957921</td>\n",
       "      <td>0.609495</td>\n",
       "    </tr>\n",
       "    <tr>\n",
       "      <th>3</th>\n",
       "      <td>957922</td>\n",
       "      <td>0.113833</td>\n",
       "    </tr>\n",
       "    <tr>\n",
       "      <th>4</th>\n",
       "      <td>957923</td>\n",
       "      <td>0.141376</td>\n",
       "    </tr>\n",
       "  </tbody>\n",
       "</table>\n",
       "</div>"
      ],
      "text/plain": [
       "       id     claim\n",
       "0  957919  0.593480\n",
       "1  957920  0.120737\n",
       "2  957921  0.609495\n",
       "3  957922  0.113833\n",
       "4  957923  0.141376"
      ]
     },
     "execution_count": 17,
     "metadata": {},
     "output_type": "execute_result"
    }
   ],
   "source": [
    "# generate submission file \n",
    "submission_lgbm = pd.DataFrame(data={\"id\" : sample_submission.id,\n",
    "                                     \"claim\" : prediction})\n",
    "\n",
    "submission_lgbm.to_csv('submission_lgbm.csv', index=False)\n",
    "submission_lgbm.head()"
   ]
  },
  {
   "cell_type": "code",
   "execution_count": 18,
   "id": "fc724cb8",
   "metadata": {
    "execution": {
     "iopub.execute_input": "2021-09-26T09:53:31.143241Z",
     "iopub.status.busy": "2021-09-26T09:53:31.139345Z",
     "iopub.status.idle": "2021-09-26T09:59:06.438663Z",
     "shell.execute_reply": "2021-09-26T09:59:06.439238Z",
     "shell.execute_reply.started": "2021-09-26T09:45:21.168349Z"
    },
    "papermill": {
     "duration": 335.616507,
     "end_time": "2021-09-26T09:59:06.439484",
     "exception": false,
     "start_time": "2021-09-26T09:53:30.822977",
     "status": "completed"
    },
    "tags": []
   },
   "outputs": [
    {
     "name": "stderr",
     "output_type": "stream",
     "text": [
      "/opt/conda/lib/python3.7/site-packages/lightgbm/engine.py:148: UserWarning: Found `num_iterations` in params. Will use it instead of argument\n",
      "  _log_warning(\"Found `{}` in params. Will use it instead of argument\".format(alias))\n"
     ]
    },
    {
     "name": "stdout",
     "output_type": "stream",
     "text": [
      "[LightGBM] [Info] Number of positive: 477515, number of negative: 480404\n",
      "[LightGBM] [Warning] Auto-choosing col-wise multi-threading, the overhead of testing was 0.974738 seconds.\n",
      "You can set `force_col_wise=true` to remove the overhead.\n",
      "[LightGBM] [Info] Total Bins 30091\n",
      "[LightGBM] [Info] Number of data points in the train set: 957919, number of used features: 119\n",
      "[LightGBM] [Info] [binary:BoostFromScore]: pavg=0.498492 -> initscore=-0.006032\n",
      "[LightGBM] [Info] Start training from score -0.006032\n"
     ]
    }
   ],
   "source": [
    "# retrain on whole data and make a new submission file\n",
    "dtrain = lgb.Dataset(df_train[feature_cols], label=df_train.claim)\n",
    "model2 = lgb.train(\n",
    "        tuned_params, \n",
    "        dtrain\n",
    "    )"
   ]
  },
  {
   "cell_type": "code",
   "execution_count": 19,
   "id": "5cbfc58f",
   "metadata": {
    "execution": {
     "iopub.execute_input": "2021-09-26T09:59:06.523468Z",
     "iopub.status.busy": "2021-09-26T09:59:06.522837Z",
     "iopub.status.idle": "2021-09-26T09:59:24.186348Z",
     "shell.execute_reply": "2021-09-26T09:59:24.187376Z",
     "shell.execute_reply.started": "2021-09-26T09:45:31.968515Z"
    },
    "papermill": {
     "duration": 17.706516,
     "end_time": "2021-09-26T09:59:24.187609",
     "exception": false,
     "start_time": "2021-09-26T09:59:06.481093",
     "status": "completed"
    },
    "tags": []
   },
   "outputs": [],
   "source": [
    "prediction = model2.predict(df_test[feature_cols])"
   ]
  },
  {
   "cell_type": "code",
   "execution_count": 20,
   "id": "ce378860",
   "metadata": {
    "execution": {
     "iopub.execute_input": "2021-09-26T09:59:24.273993Z",
     "iopub.status.busy": "2021-09-26T09:59:24.273287Z",
     "iopub.status.idle": "2021-09-26T09:59:26.119742Z",
     "shell.execute_reply": "2021-09-26T09:59:26.119120Z",
     "shell.execute_reply.started": "2021-09-26T09:45:32.904534Z"
    },
    "papermill": {
     "duration": 1.891559,
     "end_time": "2021-09-26T09:59:26.119880",
     "exception": false,
     "start_time": "2021-09-26T09:59:24.228321",
     "status": "completed"
    },
    "tags": []
   },
   "outputs": [
    {
     "data": {
      "text/html": [
       "<div>\n",
       "<style scoped>\n",
       "    .dataframe tbody tr th:only-of-type {\n",
       "        vertical-align: middle;\n",
       "    }\n",
       "\n",
       "    .dataframe tbody tr th {\n",
       "        vertical-align: top;\n",
       "    }\n",
       "\n",
       "    .dataframe thead th {\n",
       "        text-align: right;\n",
       "    }\n",
       "</style>\n",
       "<table border=\"1\" class=\"dataframe\">\n",
       "  <thead>\n",
       "    <tr style=\"text-align: right;\">\n",
       "      <th></th>\n",
       "      <th>id</th>\n",
       "      <th>claim</th>\n",
       "    </tr>\n",
       "  </thead>\n",
       "  <tbody>\n",
       "    <tr>\n",
       "      <th>0</th>\n",
       "      <td>957919</td>\n",
       "      <td>0.579502</td>\n",
       "    </tr>\n",
       "    <tr>\n",
       "      <th>1</th>\n",
       "      <td>957920</td>\n",
       "      <td>0.118619</td>\n",
       "    </tr>\n",
       "    <tr>\n",
       "      <th>2</th>\n",
       "      <td>957921</td>\n",
       "      <td>0.625412</td>\n",
       "    </tr>\n",
       "    <tr>\n",
       "      <th>3</th>\n",
       "      <td>957922</td>\n",
       "      <td>0.120163</td>\n",
       "    </tr>\n",
       "    <tr>\n",
       "      <th>4</th>\n",
       "      <td>957923</td>\n",
       "      <td>0.145224</td>\n",
       "    </tr>\n",
       "  </tbody>\n",
       "</table>\n",
       "</div>"
      ],
      "text/plain": [
       "       id     claim\n",
       "0  957919  0.579502\n",
       "1  957920  0.118619\n",
       "2  957921  0.625412\n",
       "3  957922  0.120163\n",
       "4  957923  0.145224"
      ]
     },
     "execution_count": 20,
     "metadata": {},
     "output_type": "execute_result"
    }
   ],
   "source": [
    "# generate submission file \n",
    "submission_lgbm2 = pd.DataFrame(data={\"id\" : sample_submission.id,\n",
    "                                     \"claim\" : prediction})\n",
    "\n",
    "submission_lgbm2.to_csv('submission_lgbm2.csv', index=False)\n",
    "submission_lgbm2.head()"
   ]
  },
  {
   "cell_type": "markdown",
   "id": "3e16f241",
   "metadata": {
    "papermill": {
     "duration": 0.039852,
     "end_time": "2021-09-26T09:59:26.200128",
     "exception": false,
     "start_time": "2021-09-26T09:59:26.160276",
     "status": "completed"
    },
    "tags": []
   },
   "source": [
    "Adding another experiment: train with 10 different random seeds and average the results"
   ]
  },
  {
   "cell_type": "code",
   "execution_count": 21,
   "id": "dec2c451",
   "metadata": {
    "execution": {
     "iopub.execute_input": "2021-09-26T09:59:26.431852Z",
     "iopub.status.busy": "2021-09-26T09:59:26.431170Z",
     "iopub.status.idle": "2021-09-26T10:01:12.656611Z",
     "shell.execute_reply": "2021-09-26T10:01:12.657152Z",
     "shell.execute_reply.started": "2021-09-26T09:40:13.519109Z"
    },
    "papermill": {
     "duration": 106.417109,
     "end_time": "2021-09-26T10:01:12.657341",
     "exception": false,
     "start_time": "2021-09-26T09:59:26.240232",
     "status": "completed"
    },
    "tags": []
   },
   "outputs": [
    {
     "name": "stderr",
     "output_type": "stream",
     "text": [
      "/opt/conda/lib/python3.7/site-packages/lightgbm/engine.py:148: UserWarning: Found `num_iterations` in params. Will use it instead of argument\n",
      "  _log_warning(\"Found `{}` in params. Will use it instead of argument\".format(alias))\n"
     ]
    },
    {
     "data": {
      "text/plain": [
       "array([0.55297459, 0.26336302, 0.55686498, ..., 0.66473303, 0.26336302,\n",
       "       0.66543796])"
      ]
     },
     "execution_count": 21,
     "metadata": {},
     "output_type": "execute_result"
    }
   ],
   "source": [
    "random_state = (1,3,34,53,61,63,77,78,99,104)\n",
    "avg_prediction=np.zeros(df_test[feature_cols].shape[0])\n",
    "for rs in random_state:\n",
    "    tuned_params = {'objective': 'binary', \n",
    "                'metric': 'auc', \n",
    "                'verbosity': -1, \n",
    "                'boosting_type': 'gbdt', \n",
    "                #'feature_pre_filter': False, \n",
    "                'lambda_l1': 9.933190464117825, \n",
    "                'lambda_l2': 0.03251810602204929, \n",
    "                'num_leaves': 7, \n",
    "                'feature_fraction': 1.0, \n",
    "                'bagging_fraction': 0.8694099317439226, \n",
    "                'bagging_freq': 4, \n",
    "                'min_child_samples': 25, \n",
    "                'num_iterations': 10, # 1000 from the tuner\n",
    "                'random_state': rs # new\n",
    "                }\n",
    "\n",
    "\n",
    "    dtrain = lgb.Dataset(df_train[feature_cols], label=df_train.claim)\n",
    "    model3 = lgb.train(\n",
    "        tuned_params, \n",
    "        dtrain\n",
    "    )\n",
    "    prediction = model3.predict(df_test[feature_cols])\n",
    "    avg_prediction = np.add(avg_prediction,prediction/len(random_state))\n",
    "avg_prediction"
   ]
  },
  {
   "cell_type": "code",
   "execution_count": 22,
   "id": "1636baf5",
   "metadata": {
    "collapsed": true,
    "execution": {
     "iopub.execute_input": "2021-09-26T10:01:12.749663Z",
     "iopub.status.busy": "2021-09-26T10:01:12.745748Z",
     "iopub.status.idle": "2021-09-26T10:01:12.754403Z",
     "shell.execute_reply": "2021-09-26T10:01:12.755072Z",
     "shell.execute_reply.started": "2021-09-26T09:39:02.102127Z"
    },
    "jupyter": {
     "outputs_hidden": true,
     "source_hidden": true
    },
    "papermill": {
     "duration": 0.057362,
     "end_time": "2021-09-26T10:01:12.755302",
     "exception": false,
     "start_time": "2021-09-26T10:01:12.697940",
     "status": "completed"
    },
    "tags": []
   },
   "outputs": [
    {
     "name": "stdout",
     "output_type": "stream",
     "text": [
      "[0.25 0.25 0.25 0.25]\n",
      "[0.75 0.75 0.75 0.75]\n",
      "[1.25 1.25 1.25 1.25]\n",
      "[1. 1. 1. 1.]\n"
     ]
    },
    {
     "data": {
      "text/plain": [
       "array([3.25, 3.25, 3.25, 3.25])"
      ]
     },
     "execution_count": 22,
     "metadata": {},
     "output_type": "execute_result"
    }
   ],
   "source": [
    "random_state = (1,3,5,4)\n",
    "sum_array= np.array([0,0,0,0])\n",
    "for rs in random_state:\n",
    "    array1=np.array([rs,rs,rs,rs])\n",
    "    print(array1/len(random_state))\n",
    "    sum_array = np.add(sum_array,array1/len(random_state))\n",
    "sum_array"
   ]
  },
  {
   "cell_type": "code",
   "execution_count": 23,
   "id": "9bd6e0dc",
   "metadata": {
    "execution": {
     "iopub.execute_input": "2021-09-26T10:01:12.844343Z",
     "iopub.status.busy": "2021-09-26T10:01:12.843660Z",
     "iopub.status.idle": "2021-09-26T10:01:14.664967Z",
     "shell.execute_reply": "2021-09-26T10:01:14.665440Z",
     "shell.execute_reply.started": "2021-09-26T09:43:35.567359Z"
    },
    "papermill": {
     "duration": 1.868927,
     "end_time": "2021-09-26T10:01:14.665617",
     "exception": false,
     "start_time": "2021-09-26T10:01:12.796690",
     "status": "completed"
    },
    "tags": []
   },
   "outputs": [
    {
     "data": {
      "text/html": [
       "<div>\n",
       "<style scoped>\n",
       "    .dataframe tbody tr th:only-of-type {\n",
       "        vertical-align: middle;\n",
       "    }\n",
       "\n",
       "    .dataframe tbody tr th {\n",
       "        vertical-align: top;\n",
       "    }\n",
       "\n",
       "    .dataframe thead th {\n",
       "        text-align: right;\n",
       "    }\n",
       "</style>\n",
       "<table border=\"1\" class=\"dataframe\">\n",
       "  <thead>\n",
       "    <tr style=\"text-align: right;\">\n",
       "      <th></th>\n",
       "      <th>id</th>\n",
       "      <th>claim</th>\n",
       "    </tr>\n",
       "  </thead>\n",
       "  <tbody>\n",
       "    <tr>\n",
       "      <th>0</th>\n",
       "      <td>957919</td>\n",
       "      <td>0.552975</td>\n",
       "    </tr>\n",
       "    <tr>\n",
       "      <th>1</th>\n",
       "      <td>957920</td>\n",
       "      <td>0.263363</td>\n",
       "    </tr>\n",
       "    <tr>\n",
       "      <th>2</th>\n",
       "      <td>957921</td>\n",
       "      <td>0.556865</td>\n",
       "    </tr>\n",
       "    <tr>\n",
       "      <th>3</th>\n",
       "      <td>957922</td>\n",
       "      <td>0.263715</td>\n",
       "    </tr>\n",
       "    <tr>\n",
       "      <th>4</th>\n",
       "      <td>957923</td>\n",
       "      <td>0.263715</td>\n",
       "    </tr>\n",
       "  </tbody>\n",
       "</table>\n",
       "</div>"
      ],
      "text/plain": [
       "       id     claim\n",
       "0  957919  0.552975\n",
       "1  957920  0.263363\n",
       "2  957921  0.556865\n",
       "3  957922  0.263715\n",
       "4  957923  0.263715"
      ]
     },
     "execution_count": 23,
     "metadata": {},
     "output_type": "execute_result"
    }
   ],
   "source": [
    "# generate submission file \n",
    "submission_lgbm3 = pd.DataFrame(data={\"id\" : sample_submission.id,\n",
    "                                     \"claim\" : avg_prediction})\n",
    "\n",
    "submission_lgbm3.to_csv('submission_lgbm3.csv', index=False)\n",
    "submission_lgbm3.head()"
   ]
  },
  {
   "cell_type": "code",
   "execution_count": 24,
   "id": "c67e926a",
   "metadata": {
    "execution": {
     "iopub.execute_input": "2021-09-26T10:01:14.755441Z",
     "iopub.status.busy": "2021-09-26T10:01:14.754713Z",
     "iopub.status.idle": "2021-09-26T10:01:16.593843Z",
     "shell.execute_reply": "2021-09-26T10:01:16.594374Z",
     "shell.execute_reply.started": "2021-09-26T09:46:15.019055Z"
    },
    "papermill": {
     "duration": 1.887352,
     "end_time": "2021-09-26T10:01:16.594544",
     "exception": false,
     "start_time": "2021-09-26T10:01:14.707192",
     "status": "completed"
    },
    "tags": []
   },
   "outputs": [
    {
     "data": {
      "text/html": [
       "<div>\n",
       "<style scoped>\n",
       "    .dataframe tbody tr th:only-of-type {\n",
       "        vertical-align: middle;\n",
       "    }\n",
       "\n",
       "    .dataframe tbody tr th {\n",
       "        vertical-align: top;\n",
       "    }\n",
       "\n",
       "    .dataframe thead th {\n",
       "        text-align: right;\n",
       "    }\n",
       "</style>\n",
       "<table border=\"1\" class=\"dataframe\">\n",
       "  <thead>\n",
       "    <tr style=\"text-align: right;\">\n",
       "      <th></th>\n",
       "      <th>id</th>\n",
       "      <th>claim</th>\n",
       "    </tr>\n",
       "  </thead>\n",
       "  <tbody>\n",
       "    <tr>\n",
       "      <th>0</th>\n",
       "      <td>957919</td>\n",
       "      <td>0.586491</td>\n",
       "    </tr>\n",
       "    <tr>\n",
       "      <th>1</th>\n",
       "      <td>957920</td>\n",
       "      <td>0.119678</td>\n",
       "    </tr>\n",
       "    <tr>\n",
       "      <th>2</th>\n",
       "      <td>957921</td>\n",
       "      <td>0.617453</td>\n",
       "    </tr>\n",
       "    <tr>\n",
       "      <th>3</th>\n",
       "      <td>957922</td>\n",
       "      <td>0.116998</td>\n",
       "    </tr>\n",
       "    <tr>\n",
       "      <th>4</th>\n",
       "      <td>957923</td>\n",
       "      <td>0.143300</td>\n",
       "    </tr>\n",
       "  </tbody>\n",
       "</table>\n",
       "</div>"
      ],
      "text/plain": [
       "       id     claim\n",
       "0  957919  0.586491\n",
       "1  957920  0.119678\n",
       "2  957921  0.617453\n",
       "3  957922  0.116998\n",
       "4  957923  0.143300"
      ]
     },
     "execution_count": 24,
     "metadata": {},
     "output_type": "execute_result"
    }
   ],
   "source": [
    "# one last submission, blending previous submissions\n",
    "blended_claim= (submission_lgbm.claim + submission_lgbm2.claim)/2\n",
    "submission_blended = pd.DataFrame(data={\"id\" : sample_submission.id,\n",
    "                                     \"claim\" : blended_claim})\n",
    "\n",
    "submission_blended.to_csv('submission_blended.csv', index=False)\n",
    "submission_blended.head()"
   ]
  },
  {
   "cell_type": "code",
   "execution_count": null,
   "id": "ebbcecbb",
   "metadata": {
    "papermill": {
     "duration": 0.041714,
     "end_time": "2021-09-26T10:01:16.678336",
     "exception": false,
     "start_time": "2021-09-26T10:01:16.636622",
     "status": "completed"
    },
    "tags": []
   },
   "outputs": [],
   "source": []
  }
 ],
 "metadata": {
  "kernelspec": {
   "display_name": "Python 3",
   "language": "python",
   "name": "python3"
  },
  "language_info": {
   "codemirror_mode": {
    "name": "ipython",
    "version": 3
   },
   "file_extension": ".py",
   "mimetype": "text/x-python",
   "name": "python",
   "nbconvert_exporter": "python",
   "pygments_lexer": "ipython3",
   "version": "3.7.10"
  },
  "papermill": {
   "default_parameters": {},
   "duration": 833.029451,
   "end_time": "2021-09-26T10:01:18.135881",
   "environment_variables": {},
   "exception": null,
   "input_path": "__notebook__.ipynb",
   "output_path": "__notebook__.ipynb",
   "parameters": {},
   "start_time": "2021-09-26T09:47:25.106430",
   "version": "2.3.3"
  }
 },
 "nbformat": 4,
 "nbformat_minor": 5
}

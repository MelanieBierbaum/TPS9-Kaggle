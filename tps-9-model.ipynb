{
 "cells": [
  {
   "cell_type": "code",
   "execution_count": 1,
   "id": "5128b020",
   "metadata": {
    "_cell_guid": "b1076dfc-b9ad-4769-8c92-a6c4dae69d19",
    "_uuid": "8f2839f25d086af736a60e9eeb907d3b93b6e0e5",
    "execution": {
     "iopub.execute_input": "2021-09-23T11:24:30.003206Z",
     "iopub.status.busy": "2021-09-23T11:24:30.002086Z",
     "iopub.status.idle": "2021-09-23T11:24:32.617354Z",
     "shell.execute_reply": "2021-09-23T11:24:32.617830Z",
     "shell.execute_reply.started": "2021-09-23T10:36:11.585829Z"
    },
    "papermill": {
     "duration": 2.637085,
     "end_time": "2021-09-23T11:24:32.618146",
     "exception": false,
     "start_time": "2021-09-23T11:24:29.981061",
     "status": "completed"
    },
    "tags": []
   },
   "outputs": [
    {
     "name": "stdout",
     "output_type": "stream",
     "text": [
      "scikit-learn version: 0.23.2\n"
     ]
    },
    {
     "data": {
      "text/html": [
       "<style type='text/css'>\n",
       ".datatable table.frame { margin-bottom: 0; }\n",
       ".datatable table.frame thead { border-bottom: none; }\n",
       ".datatable table.frame tr.coltypes td {  color: #FFFFFF;  line-height: 6px;  padding: 0 0.5em;}\n",
       ".datatable .bool    { background: #DDDD99; }\n",
       ".datatable .object  { background: #565656; }\n",
       ".datatable .int     { background: #5D9E5D; }\n",
       ".datatable .float   { background: #4040CC; }\n",
       ".datatable .str     { background: #CC4040; }\n",
       ".datatable .time    { background: #40CC40; }\n",
       ".datatable .row_index {  background: var(--jp-border-color3);  border-right: 1px solid var(--jp-border-color0);  color: var(--jp-ui-font-color3);  font-size: 9px;}\n",
       ".datatable .frame tbody td { text-align: left; }\n",
       ".datatable .frame tr.coltypes .row_index {  background: var(--jp-border-color0);}\n",
       ".datatable th:nth-child(2) { padding-left: 12px; }\n",
       ".datatable .hellipsis {  color: var(--jp-cell-editor-border-color);}\n",
       ".datatable .vellipsis {  background: var(--jp-layout-color0);  color: var(--jp-cell-editor-border-color);}\n",
       ".datatable .na {  color: var(--jp-cell-editor-border-color);  font-size: 80%;}\n",
       ".datatable .sp {  opacity: 0.25;}\n",
       ".datatable .footer { font-size: 9px; }\n",
       ".datatable .frame_dimensions {  background: var(--jp-border-color3);  border-top: 1px solid var(--jp-border-color0);  color: var(--jp-ui-font-color3);  display: inline-block;  opacity: 0.6;  padding: 1px 10px 1px 5px;}\n",
       "</style>\n"
      ],
      "text/plain": [
       "<IPython.core.display.HTML object>"
      ]
     },
     "metadata": {},
     "output_type": "display_data"
    },
    {
     "name": "stdout",
     "output_type": "stream",
     "text": [
      "LightGBM version:  3.2.1\n",
      "Matplotlib version:  3.4.3\n",
      "Seaborn version:  0.11.2\n",
      "Optuna version:  2.9.1\n",
      "/kaggle/input/tabular-playground-series-sep-2021/train.csv\n",
      "/kaggle/input/tabular-playground-series-sep-2021/test.csv\n",
      "/kaggle/input/tabular-playground-series-sep-2021/sample_solution.csv\n"
     ]
    }
   ],
   "source": [
    "# import libraries\n",
    "import numpy as np # linear algebra\n",
    "import pandas as pd # data processing, CSV file I/O (e.g. pd.read_csv)\n",
    "\n",
    "import sklearn\n",
    "from sklearn.preprocessing import StandardScaler\n",
    "from sklearn.preprocessing import PowerTransformer\n",
    "from sklearn.impute import SimpleImputer\n",
    "from sklearn.pipeline import Pipeline\n",
    "from sklearn.compose import ColumnTransformer\n",
    "from sklearn.model_selection import train_test_split\n",
    "from sklearn.model_selection import KFold, cross_val_score\n",
    "from sklearn.metrics import roc_auc_score\n",
    "print(\"scikit-learn version: {}\". format(sklearn.__version__))\n",
    "\n",
    "import lightgbm as lgb\n",
    "print(\"LightGBM version:  {}\".format(lgb.__version__))\n",
    "\n",
    "import matplotlib\n",
    "import matplotlib.pyplot as plt\n",
    "print(\"Matplotlib version:  {}\".format(matplotlib.__version__))\n",
    "\n",
    "import seaborn as sns\n",
    "print(\"Seaborn version:  {}\".format(sns.__version__))\n",
    "\n",
    "import optuna\n",
    "print(\"Optuna version:  {}\".format(optuna.__version__))\n",
    "\n",
    "import os\n",
    "for dirname, _, filenames in os.walk('/kaggle/input'):\n",
    "    for filename in filenames:\n",
    "        print(os.path.join(dirname, filename))"
   ]
  },
  {
   "cell_type": "code",
   "execution_count": 2,
   "id": "8465540d",
   "metadata": {
    "execution": {
     "iopub.execute_input": "2021-09-23T11:24:32.658001Z",
     "iopub.status.busy": "2021-09-23T11:24:32.657384Z",
     "iopub.status.idle": "2021-09-23T11:25:09.833950Z",
     "shell.execute_reply": "2021-09-23T11:25:09.833287Z",
     "shell.execute_reply.started": "2021-09-23T10:36:14.672958Z"
    },
    "papermill": {
     "duration": 37.198424,
     "end_time": "2021-09-23T11:25:09.834144",
     "exception": false,
     "start_time": "2021-09-23T11:24:32.635720",
     "status": "completed"
    },
    "tags": []
   },
   "outputs": [],
   "source": [
    "# read input files\n",
    "df_train = pd.read_csv(\"../input/tabular-playground-series-sep-2021/train.csv\")\n",
    "df_test = pd.read_csv(\"../input/tabular-playground-series-sep-2021/test.csv\")\n",
    "sample_submission = pd.read_csv(\"../input/tabular-playground-series-sep-2021/sample_solution.csv\")\n",
    "\n",
    "feature_cols = [col for col in df_train.columns if col.startswith(\"f\")]\n",
    "target=df_train.claim"
   ]
  },
  {
   "cell_type": "code",
   "execution_count": 3,
   "id": "4b399c8f",
   "metadata": {
    "execution": {
     "iopub.execute_input": "2021-09-23T11:25:09.872171Z",
     "iopub.status.busy": "2021-09-23T11:25:09.871553Z",
     "iopub.status.idle": "2021-09-23T11:25:10.705291Z",
     "shell.execute_reply": "2021-09-23T11:25:10.704481Z",
     "shell.execute_reply.started": "2021-09-23T10:37:00.380791Z"
    },
    "papermill": {
     "duration": 0.853476,
     "end_time": "2021-09-23T11:25:10.705439",
     "exception": false,
     "start_time": "2021-09-23T11:25:09.851963",
     "status": "completed"
    },
    "tags": []
   },
   "outputs": [],
   "source": [
    "# adding the magic feature, see https://www.kaggle.com/c/tabular-playground-series-sep-2021/discussion/270206\n",
    "df_train['NaNs'] = df_train[feature_cols].isna().sum(axis=1)\n",
    "df_test['NaNs'] = df_test[feature_cols].isna().sum(axis=1)\n",
    "feature_cols += ['NaNs']\n",
    "# feature_cols.append('NaNs') #alternative statement"
   ]
  },
  {
   "cell_type": "code",
   "execution_count": 4,
   "id": "bb2188f6",
   "metadata": {
    "execution": {
     "iopub.execute_input": "2021-09-23T11:25:10.746447Z",
     "iopub.status.busy": "2021-09-23T11:25:10.745702Z",
     "iopub.status.idle": "2021-09-23T11:25:10.749914Z",
     "shell.execute_reply": "2021-09-23T11:25:10.749338Z",
     "shell.execute_reply.started": "2021-09-23T10:37:01.470210Z"
    },
    "papermill": {
     "duration": 0.027225,
     "end_time": "2021-09-23T11:25:10.750070",
     "exception": false,
     "start_time": "2021-09-23T11:25:10.722845",
     "status": "completed"
    },
    "tags": []
   },
   "outputs": [],
   "source": [
    "# preprocessing pipeline\n",
    "new_features = ['NaNs']\n",
    "numeric_features = [col for col in df_train.columns if col.startswith(\"f\")]\n",
    "\n",
    "numeric_transformer = Pipeline(steps=[\n",
    "       #('imputer', SimpleImputer(strategy='mean')), # replace all Nan with mean\n",
    "       ('scaler', PowerTransformer()) # scale the features\n",
    "        ]) \n",
    "\n",
    "second_transformer = Pipeline(steps=[\n",
    "       #('imputer', SimpleImputer(strategy='mean')), \n",
    "       ('scaler', StandardScaler(with_mean=False, with_std=False)) # this pipeline does intentionally nothing\n",
    "        ]) \n",
    "\n",
    "preprocessor = ColumnTransformer(\n",
    "   transformers=[\n",
    "    ('numeric', numeric_transformer, numeric_features),\n",
    "    ('second', second_transformer, new_features)\n",
    "   ]) "
   ]
  },
  {
   "cell_type": "markdown",
   "id": "bfb7618e",
   "metadata": {
    "papermill": {
     "duration": 0.016619,
     "end_time": "2021-09-23T11:25:10.783959",
     "exception": false,
     "start_time": "2021-09-23T11:25:10.767340",
     "status": "completed"
    },
    "tags": []
   },
   "source": [
    "prepare for Optuna (not used in this run)"
   ]
  },
  {
   "cell_type": "code",
   "execution_count": 5,
   "id": "3ccc4a30",
   "metadata": {
    "execution": {
     "iopub.execute_input": "2021-09-23T11:25:10.822355Z",
     "iopub.status.busy": "2021-09-23T11:25:10.821757Z",
     "iopub.status.idle": "2021-09-23T11:25:10.825654Z",
     "shell.execute_reply": "2021-09-23T11:25:10.826095Z",
     "shell.execute_reply.started": "2021-09-23T07:04:59.941501Z"
    },
    "papermill": {
     "duration": 0.023967,
     "end_time": "2021-09-23T11:25:10.826292",
     "exception": false,
     "start_time": "2021-09-23T11:25:10.802325",
     "status": "completed"
    },
    "tags": []
   },
   "outputs": [],
   "source": [
    "kfolds = KFold(n_splits=4, shuffle=True, random_state=7)"
   ]
  },
  {
   "cell_type": "code",
   "execution_count": 6,
   "id": "58966928",
   "metadata": {
    "execution": {
     "iopub.execute_input": "2021-09-23T11:25:10.866378Z",
     "iopub.status.busy": "2021-09-23T11:25:10.865735Z",
     "iopub.status.idle": "2021-09-23T11:25:10.870118Z",
     "shell.execute_reply": "2021-09-23T11:25:10.869618Z",
     "shell.execute_reply.started": "2021-09-23T07:05:12.271540Z"
    },
    "papermill": {
     "duration": 0.026711,
     "end_time": "2021-09-23T11:25:10.870253",
     "exception": false,
     "start_time": "2021-09-23T11:25:10.843542",
     "status": "completed"
    },
    "tags": []
   },
   "outputs": [],
   "source": [
    "def tune(objective):\n",
    "    study = optuna.create_study(direction=\"maximize\")\n",
    "    study.optimize(objective, n_trials=1) \n",
    "\n",
    "    params = study.best_params\n",
    "    best_score = study.best_value\n",
    "    print(f\"Best score: {best_score} \\nOptimized parameters: {params}\")\n",
    "    return params"
   ]
  },
  {
   "cell_type": "code",
   "execution_count": 7,
   "id": "54b2bb25",
   "metadata": {
    "execution": {
     "iopub.execute_input": "2021-09-23T11:25:10.915159Z",
     "iopub.status.busy": "2021-09-23T11:25:10.914193Z",
     "iopub.status.idle": "2021-09-23T11:25:10.917033Z",
     "shell.execute_reply": "2021-09-23T11:25:10.916550Z",
     "shell.execute_reply.started": "2021-09-23T07:07:39.131203Z"
    },
    "papermill": {
     "duration": 0.029844,
     "end_time": "2021-09-23T11:25:10.917181",
     "exception": false,
     "start_time": "2021-09-23T11:25:10.887337",
     "status": "completed"
    },
    "tags": []
   },
   "outputs": [],
   "source": [
    "def lgb_objective(trial):\n",
    "    _n_estimators = trial.suggest_int(\"n_estimators\", 100, 2000) \n",
    "    _learning_rate = trial.suggest_float(\"learning_rate\", 1e-6, 0.3, log=True)\n",
    "    _min_child_weight = trial.suggest_float(\"min_child_weight\", 1e-3, 16) #min_sum_hessian_in_leaf, default 1e-3\n",
    "    _min_child_samples = trial.suggest_int(\"min_child_samples\", 10, 30) #min_data_in_leaf, default 20\n",
    "    _subsample = trial.suggest_float('subsample', 0.6, 1) #bagging_fraction, default 1.0, needs bagging_freq to be non zero\n",
    "    _colsample_bytree = trial.suggest_float('colsample_bytree', 0.7, 1) #feature_fraction, default 1.0\n",
    "    _reg_alpha = trial.suggest_float('reg_alpha', 0.01, 10, log=True)\n",
    "    _reg_lambda = trial.suggest_float('reg_lambda', 0.01, 10, log=True)\n",
    "\n",
    "    \n",
    "    model = lgb.LGBMClassifier(\n",
    "        objective = 'binary', \n",
    "        n_estimators=_n_estimators,\n",
    "        learning_rate=_learning_rate,\n",
    "        min_child_weight=_min_child_weight,\n",
    "        min_child_samples =_min_child_samples,\n",
    "        subsample=_subsample,\n",
    "        subsample_freq=10,#bagging_freq, default 0,\n",
    "        colsample_bytree=_colsample_bytree,\n",
    "        reg_alpha=_reg_alpha,\n",
    "        reg_lambda=_reg_lambda,\n",
    "        random_state=7\n",
    "    )\n",
    "    \n",
    "\n",
    "    val_metric = []\n",
    "    for train_index, test_index in kfolds.split(X):\n",
    " \n",
    "        X_train, X_val = X.iloc[train_index], X.iloc[test_index]\n",
    "        y_train, y_val = y.iloc[train_index], y.iloc[test_index]\n",
    "    \n",
    "        model.fit( \n",
    "            X_train, \n",
    "            y_train,\n",
    "            eval_set=[(X_val, y_val)],\n",
    "            eval_names=['val'],\n",
    "            eval_metric='auc',\n",
    "            early_stopping_rounds=50, \n",
    "            verbose=100)\n",
    "    \n",
    "        pred_val = model.predict_proba(X_val)[:,1]\n",
    "    \n",
    "    val_metric.append(roc_auc_score(y_val, pred_val)) \n",
    "    \n",
    "   \n",
    "    score = sum(val_metric)/len(val_metric) \n",
    "    \n",
    "    return score"
   ]
  },
  {
   "cell_type": "code",
   "execution_count": 8,
   "id": "00d8e7fb",
   "metadata": {
    "execution": {
     "iopub.execute_input": "2021-09-23T11:25:10.956183Z",
     "iopub.status.busy": "2021-09-23T11:25:10.955416Z",
     "iopub.status.idle": "2021-09-23T11:25:10.958345Z",
     "shell.execute_reply": "2021-09-23T11:25:10.957841Z",
     "shell.execute_reply.started": "2021-09-23T06:55:09.769986Z"
    },
    "papermill": {
     "duration": 0.024225,
     "end_time": "2021-09-23T11:25:10.958495",
     "exception": false,
     "start_time": "2021-09-23T11:25:10.934270",
     "status": "completed"
    },
    "tags": []
   },
   "outputs": [],
   "source": [
    "\n",
    "#X = preprocessor.fit_transform(df_train[feature_cols])\n",
    "#y = df_train.claim"
   ]
  },
  {
   "cell_type": "code",
   "execution_count": 9,
   "id": "85541ca3",
   "metadata": {
    "execution": {
     "iopub.execute_input": "2021-09-23T11:25:10.997697Z",
     "iopub.status.busy": "2021-09-23T11:25:10.997054Z",
     "iopub.status.idle": "2021-09-23T11:25:10.999865Z",
     "shell.execute_reply": "2021-09-23T11:25:10.999437Z",
     "shell.execute_reply.started": "2021-09-23T07:02:47.265089Z"
    },
    "papermill": {
     "duration": 0.024203,
     "end_time": "2021-09-23T11:25:11.000002",
     "exception": false,
     "start_time": "2021-09-23T11:25:10.975799",
     "status": "completed"
    },
    "tags": []
   },
   "outputs": [],
   "source": [
    "#X= pd.DataFrame(data=X, columns=feature_cols)"
   ]
  },
  {
   "cell_type": "code",
   "execution_count": 10,
   "id": "33f824c6",
   "metadata": {
    "execution": {
     "iopub.execute_input": "2021-09-23T11:25:11.039254Z",
     "iopub.status.busy": "2021-09-23T11:25:11.038591Z",
     "iopub.status.idle": "2021-09-23T11:25:11.041715Z",
     "shell.execute_reply": "2021-09-23T11:25:11.041136Z",
     "shell.execute_reply.started": "2021-09-23T10:46:48.867588Z"
    },
    "papermill": {
     "duration": 0.024274,
     "end_time": "2021-09-23T11:25:11.041853",
     "exception": false,
     "start_time": "2021-09-23T11:25:11.017579",
     "status": "completed"
    },
    "tags": []
   },
   "outputs": [],
   "source": [
    "# start optuna here\n",
    "#lgbm_params_tuned = tune(lgb_objective)\n",
    "#lgbm_params_tuned"
   ]
  },
  {
   "cell_type": "code",
   "execution_count": 11,
   "id": "1505ae4e",
   "metadata": {
    "execution": {
     "iopub.execute_input": "2021-09-23T11:25:11.079725Z",
     "iopub.status.busy": "2021-09-23T11:25:11.078741Z",
     "iopub.status.idle": "2021-09-23T11:25:13.103037Z",
     "shell.execute_reply": "2021-09-23T11:25:13.103514Z",
     "shell.execute_reply.started": "2021-09-23T10:37:06.685662Z"
    },
    "papermill": {
     "duration": 2.044765,
     "end_time": "2021-09-23T11:25:13.103678",
     "exception": false,
     "start_time": "2021-09-23T11:25:11.058913",
     "status": "completed"
    },
    "tags": []
   },
   "outputs": [
    {
     "data": {
      "text/plain": [
       "(718439, 119)"
      ]
     },
     "metadata": {},
     "output_type": "display_data"
    }
   ],
   "source": [
    "# dividing X, y into train and test data\n",
    "X = df_train[feature_cols]\n",
    "y = df_train.claim\n",
    "X_train, X_val, y_train, y_val = train_test_split(X, y, random_state = 29, stratify=y)\n",
    "display(X_train.shape)"
   ]
  },
  {
   "cell_type": "code",
   "execution_count": 12,
   "id": "fed45933",
   "metadata": {
    "execution": {
     "iopub.execute_input": "2021-09-23T11:25:13.410510Z",
     "iopub.status.busy": "2021-09-23T11:25:13.409451Z",
     "iopub.status.idle": "2021-09-23T11:28:31.775245Z",
     "shell.execute_reply": "2021-09-23T11:28:31.774662Z",
     "shell.execute_reply.started": "2021-09-23T10:37:09.786029Z"
    },
    "papermill": {
     "duration": 198.653521,
     "end_time": "2021-09-23T11:28:31.775405",
     "exception": false,
     "start_time": "2021-09-23T11:25:13.121884",
     "status": "completed"
    },
    "tags": []
   },
   "outputs": [],
   "source": [
    "X_train1 = preprocessor.fit_transform(X_train)\n",
    "X_val1 = preprocessor.transform(X_val)\n",
    "#X_test = preprocessor.transform(df_test[feature_cols])"
   ]
  },
  {
   "cell_type": "code",
   "execution_count": 13,
   "id": "e82838a3",
   "metadata": {
    "execution": {
     "iopub.execute_input": "2021-09-23T11:28:31.816617Z",
     "iopub.status.busy": "2021-09-23T11:28:31.815926Z",
     "iopub.status.idle": "2021-09-23T11:28:31.817510Z",
     "shell.execute_reply": "2021-09-23T11:28:31.817967Z",
     "shell.execute_reply.started": "2021-09-23T11:01:48.680507Z"
    },
    "papermill": {
     "duration": 0.024665,
     "end_time": "2021-09-23T11:28:31.818154",
     "exception": false,
     "start_time": "2021-09-23T11:28:31.793489",
     "status": "completed"
    },
    "tags": []
   },
   "outputs": [],
   "source": [
    "# most of the parameters I borrowed from BIZENs great notebook: https://www.kaggle.com/hiro5299834/tps-sep-2021-single-lgbm\n",
    "lgb_params = {\n",
    "    'objective': 'binary',\n",
    "    'metric' : 'auc',\n",
    "    'n_estimators': 2000,\n",
    "    'random_state': 29,\n",
    "    'learning_rate': 0.1,\n",
    "    'subsample': 0.6,\n",
    "    'subsample_freq': 1,\n",
    "    'colsample_bytree': 0.4,\n",
    "    'reg_alpha': 10.0,\n",
    "    'reg_lambda': 1e-1,\n",
    "    'min_child_weight': 256,\n",
    "    'min_child_samples': 20,\n",
    "}"
   ]
  },
  {
   "cell_type": "code",
   "execution_count": 14,
   "id": "ab75ac08",
   "metadata": {
    "execution": {
     "iopub.execute_input": "2021-09-23T11:28:31.856150Z",
     "iopub.status.busy": "2021-09-23T11:28:31.855515Z",
     "iopub.status.idle": "2021-09-23T11:30:19.554003Z",
     "shell.execute_reply": "2021-09-23T11:30:19.553350Z",
     "shell.execute_reply.started": "2021-09-23T11:01:51.973561Z"
    },
    "papermill": {
     "duration": 107.7188,
     "end_time": "2021-09-23T11:30:19.554277",
     "exception": false,
     "start_time": "2021-09-23T11:28:31.835477",
     "status": "completed"
    },
    "tags": []
   },
   "outputs": [
    {
     "name": "stdout",
     "output_type": "stream",
     "text": [
      "Training until validation scores don't improve for 200 rounds\n",
      "[100]\ttrain's auc: 0.820083\tval's auc: 0.811321\n",
      "[200]\ttrain's auc: 0.827992\tval's auc: 0.813768\n",
      "[300]\ttrain's auc: 0.833979\tval's auc: 0.814164\n",
      "[400]\ttrain's auc: 0.839454\tval's auc: 0.814185\n",
      "[500]\ttrain's auc: 0.844514\tval's auc: 0.814069\n",
      "Early stopping, best iteration is:\n",
      "[323]\ttrain's auc: 0.835332\tval's auc: 0.814289\n"
     ]
    },
    {
     "data": {
      "text/plain": [
       "LGBMClassifier(colsample_bytree=0.4, metric='auc', min_child_weight=256,\n",
       "               n_estimators=2000, objective='binary', random_state=29,\n",
       "               reg_alpha=10.0, reg_lambda=0.1, subsample=0.6, subsample_freq=1)"
      ]
     },
     "execution_count": 14,
     "metadata": {},
     "output_type": "execute_result"
    }
   ],
   "source": [
    "model = lgb.LGBMClassifier(**lgb_params)\n",
    "model.fit( \n",
    "        X_train1, \n",
    "        y_train,\n",
    "        eval_set=[(X_train1, y_train),(X_val1, y_val)],\n",
    "        eval_names=['train','val'],\n",
    "        eval_metric='auc',\n",
    "        early_stopping_rounds=200, \n",
    "        verbose=100)"
   ]
  },
  {
   "cell_type": "code",
   "execution_count": 15,
   "id": "15589e58",
   "metadata": {
    "execution": {
     "iopub.execute_input": "2021-09-23T11:30:19.598514Z",
     "iopub.status.busy": "2021-09-23T11:30:19.597885Z",
     "iopub.status.idle": "2021-09-23T11:30:19.600474Z",
     "shell.execute_reply": "2021-09-23T11:30:19.600867Z"
    },
    "papermill": {
     "duration": 0.027315,
     "end_time": "2021-09-23T11:30:19.601055",
     "exception": false,
     "start_time": "2021-09-23T11:30:19.573740",
     "status": "completed"
    },
    "tags": []
   },
   "outputs": [],
   "source": [
    "# original data\n",
    "# with metric auc\n",
    "#[525]\ttrain's auc: 0.845909\tval's auc: 0.814188\n",
    "# with no metric specified\n",
    "# [331]\ttrain's auc: 0.835894\ttrain's binary_logloss: 0.495533\tval's auc: 0.814072\tval's binary_logloss: 0.5077\n",
    "# using preprocessed data\n",
    "# with no metric specified\n",
    "#[317]\ttrain's auc: 0.834971\ttrain's binary_logloss: 0.496104\tval's auc: 0.814287\tval's binary_logloss: 0.507658\n",
    "# with metric auc\n",
    "#[323]\ttrain's auc: 0.835332\tval's auc: 0.814289"
   ]
  },
  {
   "cell_type": "code",
   "execution_count": 16,
   "id": "6a8dacea",
   "metadata": {
    "execution": {
     "iopub.execute_input": "2021-09-23T11:30:19.645760Z",
     "iopub.status.busy": "2021-09-23T11:30:19.645186Z",
     "iopub.status.idle": "2021-09-23T11:30:22.486881Z",
     "shell.execute_reply": "2021-09-23T11:30:22.486253Z",
     "shell.execute_reply.started": "2021-09-23T11:04:55.204003Z"
    },
    "papermill": {
     "duration": 2.866855,
     "end_time": "2021-09-23T11:30:22.487090",
     "exception": false,
     "start_time": "2021-09-23T11:30:19.620235",
     "status": "completed"
    },
    "tags": []
   },
   "outputs": [
    {
     "data": {
      "text/plain": [
       "0.8142886031131762"
      ]
     },
     "execution_count": 16,
     "metadata": {},
     "output_type": "execute_result"
    }
   ],
   "source": [
    "pred_val = model.predict_proba(X_val1)[:,1]\n",
    "#pred_val[0:5] \n",
    "roc_auc_score(y_val, pred_val)"
   ]
  },
  {
   "cell_type": "code",
   "execution_count": 17,
   "id": "9dffe826",
   "metadata": {
    "execution": {
     "iopub.execute_input": "2021-09-23T11:30:22.531435Z",
     "iopub.status.busy": "2021-09-23T11:30:22.530698Z",
     "iopub.status.idle": "2021-09-23T11:30:23.035608Z",
     "shell.execute_reply": "2021-09-23T11:30:23.036079Z",
     "shell.execute_reply.started": "2021-09-23T11:22:48.588890Z"
    },
    "papermill": {
     "duration": 0.528945,
     "end_time": "2021-09-23T11:30:23.036258",
     "exception": false,
     "start_time": "2021-09-23T11:30:22.507313",
     "status": "completed"
    },
    "tags": []
   },
   "outputs": [
    {
     "data": {
      "image/png": "[encoded data removed]",
      "text/plain": [
       "<Figure size 1008x576 with 1 Axes>"
      ]
     },
     "metadata": {
      "needs_background": "light"
     },
     "output_type": "display_data"
    }
   ],
   "source": [
    "lgb.plot_metric(model, metric=\"auc\", figsize=(14,8))\n",
    "plt.show()"
   ]
  },
  {
   "cell_type": "code",
   "execution_count": 18,
   "id": "d5d259e7",
   "metadata": {
    "execution": {
     "iopub.execute_input": "2021-09-23T11:30:23.083214Z",
     "iopub.status.busy": "2021-09-23T11:30:23.082504Z",
     "iopub.status.idle": "2021-09-23T11:30:23.084907Z",
     "shell.execute_reply": "2021-09-23T11:30:23.085382Z",
     "shell.execute_reply.started": "2021-09-23T11:21:21.377541Z"
    },
    "papermill": {
     "duration": 0.028529,
     "end_time": "2021-09-23T11:30:23.085576",
     "exception": false,
     "start_time": "2021-09-23T11:30:23.057047",
     "status": "completed"
    },
    "tags": []
   },
   "outputs": [],
   "source": [
    "#model.feature_importances_"
   ]
  },
  {
   "cell_type": "code",
   "execution_count": 19,
   "id": "c68dd7a5",
   "metadata": {
    "execution": {
     "iopub.execute_input": "2021-09-23T11:30:23.131126Z",
     "iopub.status.busy": "2021-09-23T11:30:23.130504Z",
     "iopub.status.idle": "2021-09-23T11:30:23.133499Z",
     "shell.execute_reply": "2021-09-23T11:30:23.133955Z",
     "shell.execute_reply.started": "2021-09-23T11:07:57.545926Z"
    },
    "papermill": {
     "duration": 0.027462,
     "end_time": "2021-09-23T11:30:23.134139",
     "exception": false,
     "start_time": "2021-09-23T11:30:23.106677",
     "status": "completed"
    },
    "tags": []
   },
   "outputs": [],
   "source": [
    "#model.feature_name_"
   ]
  },
  {
   "cell_type": "code",
   "execution_count": 20,
   "id": "0d2b6add",
   "metadata": {
    "execution": {
     "iopub.execute_input": "2021-09-23T11:30:23.178927Z",
     "iopub.status.busy": "2021-09-23T11:30:23.178340Z",
     "iopub.status.idle": "2021-09-23T11:30:23.191725Z",
     "shell.execute_reply": "2021-09-23T11:30:23.191248Z",
     "shell.execute_reply.started": "2021-09-23T11:13:32.767202Z"
    },
    "papermill": {
     "duration": 0.036851,
     "end_time": "2021-09-23T11:30:23.191881",
     "exception": false,
     "start_time": "2021-09-23T11:30:23.155030",
     "status": "completed"
    },
    "tags": []
   },
   "outputs": [],
   "source": [
    "feature_imp = pd.DataFrame(sorted(zip(model.feature_importances_,feature_cols)), columns=['Value','Feature'])\n",
    "feature_imp = feature_imp.sort_values(by=\"Value\", ascending=False)"
   ]
  },
  {
   "cell_type": "code",
   "execution_count": 21,
   "id": "d82da4ad",
   "metadata": {
    "execution": {
     "iopub.execute_input": "2021-09-23T11:30:23.252313Z",
     "iopub.status.busy": "2021-09-23T11:30:23.247658Z",
     "iopub.status.idle": "2021-09-23T11:30:24.832945Z",
     "shell.execute_reply": "2021-09-23T11:30:24.832381Z",
     "shell.execute_reply.started": "2021-09-23T11:19:11.226838Z"
    },
    "papermill": {
     "duration": 1.619659,
     "end_time": "2021-09-23T11:30:24.833107",
     "exception": false,
     "start_time": "2021-09-23T11:30:23.213448",
     "status": "completed"
    },
    "tags": []
   },
   "outputs": [
    {
     "data": {
      "image/png": "[encoded data removed]",
      "text/plain": [
       "<Figure size 1152x1728 with 1 Axes>"
      ]
     },
     "metadata": {
      "needs_background": "light"
     },
     "output_type": "display_data"
    }
   ],
   "source": [
    "plt.figure(figsize=(16,24))\n",
    "sns.barplot(x=feature_imp.Value, y=feature_imp.Feature, palette=\"Blues_r\")\n",
    "plt.title(\"Feature importances\")\n",
    "plt.show()"
   ]
  },
  {
   "cell_type": "code",
   "execution_count": 22,
   "id": "12828101",
   "metadata": {
    "execution": {
     "iopub.execute_input": "2021-09-23T11:30:24.892762Z",
     "iopub.status.busy": "2021-09-23T11:30:24.892134Z",
     "iopub.status.idle": "2021-09-23T11:30:24.894461Z",
     "shell.execute_reply": "2021-09-23T11:30:24.893941Z",
     "shell.execute_reply.started": "2021-09-23T11:20:55.261175Z"
    },
    "papermill": {
     "duration": 0.03023,
     "end_time": "2021-09-23T11:30:24.894602",
     "exception": false,
     "start_time": "2021-09-23T11:30:24.864372",
     "status": "completed"
    },
    "tags": []
   },
   "outputs": [],
   "source": [
    "#lgb.plot_importance(model, figsize=(16,24))\n",
    "#plt.show()\n",
    "\n",
    "# in the current lighgbm version this plot has Column_39 as y_tick names instead of the actual feature name"
   ]
  },
  {
   "cell_type": "code",
   "execution_count": 23,
   "id": "95eebccf",
   "metadata": {
    "execution": {
     "iopub.execute_input": "2021-09-23T11:30:24.945711Z",
     "iopub.status.busy": "2021-09-23T11:30:24.945087Z",
     "iopub.status.idle": "2021-09-23T11:30:37.611115Z",
     "shell.execute_reply": "2021-09-23T11:30:37.611594Z",
     "shell.execute_reply.started": "2021-09-23T11:05:44.989670Z"
    },
    "papermill": {
     "duration": 12.694461,
     "end_time": "2021-09-23T11:30:37.611821",
     "exception": false,
     "start_time": "2021-09-23T11:30:24.917360",
     "status": "completed"
    },
    "tags": []
   },
   "outputs": [],
   "source": [
    "# transform test set and predict for test set\n",
    "X_test = preprocessor.transform(df_test[feature_cols])\n",
    "predictions = model.predict_proba(X_test)[:,1]"
   ]
  },
  {
   "cell_type": "code",
   "execution_count": 24,
   "id": "5a92b2b0",
   "metadata": {
    "execution": {
     "iopub.execute_input": "2021-09-23T11:30:37.661787Z",
     "iopub.status.busy": "2021-09-23T11:30:37.661156Z",
     "iopub.status.idle": "2021-09-23T11:30:38.893069Z",
     "shell.execute_reply": "2021-09-23T11:30:38.892463Z",
     "shell.execute_reply.started": "2021-09-23T11:05:57.251090Z"
    },
    "papermill": {
     "duration": 1.257319,
     "end_time": "2021-09-23T11:30:38.893225",
     "exception": false,
     "start_time": "2021-09-23T11:30:37.635906",
     "status": "completed"
    },
    "tags": []
   },
   "outputs": [
    {
     "data": {
      "text/html": [
       "<div>\n",
       "<style scoped>\n",
       "    .dataframe tbody tr th:only-of-type {\n",
       "        vertical-align: middle;\n",
       "    }\n",
       "\n",
       "    .dataframe tbody tr th {\n",
       "        vertical-align: top;\n",
       "    }\n",
       "\n",
       "    .dataframe thead th {\n",
       "        text-align: right;\n",
       "    }\n",
       "</style>\n",
       "<table border=\"1\" class=\"dataframe\">\n",
       "  <thead>\n",
       "    <tr style=\"text-align: right;\">\n",
       "      <th></th>\n",
       "      <th>id</th>\n",
       "      <th>claim</th>\n",
       "    </tr>\n",
       "  </thead>\n",
       "  <tbody>\n",
       "    <tr>\n",
       "      <th>0</th>\n",
       "      <td>957919</td>\n",
       "      <td>0.656690</td>\n",
       "    </tr>\n",
       "    <tr>\n",
       "      <th>1</th>\n",
       "      <td>957920</td>\n",
       "      <td>0.126173</td>\n",
       "    </tr>\n",
       "    <tr>\n",
       "      <th>2</th>\n",
       "      <td>957921</td>\n",
       "      <td>0.645718</td>\n",
       "    </tr>\n",
       "    <tr>\n",
       "      <th>3</th>\n",
       "      <td>957922</td>\n",
       "      <td>0.119288</td>\n",
       "    </tr>\n",
       "    <tr>\n",
       "      <th>4</th>\n",
       "      <td>957923</td>\n",
       "      <td>0.141103</td>\n",
       "    </tr>\n",
       "  </tbody>\n",
       "</table>\n",
       "</div>"
      ],
      "text/plain": [
       "       id     claim\n",
       "0  957919  0.656690\n",
       "1  957920  0.126173\n",
       "2  957921  0.645718\n",
       "3  957922  0.119288\n",
       "4  957923  0.141103"
      ]
     },
     "execution_count": 24,
     "metadata": {},
     "output_type": "execute_result"
    }
   ],
   "source": [
    "# generate submission file \n",
    "submission_lgbm = pd.DataFrame(data={\"id\" : sample_submission.id,\n",
    "                                     \"claim\" : predictions})\n",
    "\n",
    "submission_lgbm.to_csv('submission_lgbm.csv', index=False)\n",
    "submission_lgbm.head()"
   ]
  },
  {
   "cell_type": "code",
   "execution_count": null,
   "id": "202fd399",
   "metadata": {
    "papermill": {
     "duration": 0.022718,
     "end_time": "2021-09-23T11:30:38.939053",
     "exception": false,
     "start_time": "2021-09-23T11:30:38.916335",
     "status": "completed"
    },
    "tags": []
   },
   "outputs": [],
   "source": []
  }
 ],
 "metadata": {
  "kernelspec": {
   "display_name": "Python 3",
   "language": "python",
   "name": "python3"
  },
  "language_info": {
   "codemirror_mode": {
    "name": "ipython",
    "version": 3
   },
   "file_extension": ".py",
   "mimetype": "text/x-python",
   "name": "python",
   "nbconvert_exporter": "python",
   "pygments_lexer": "ipython3",
   "version": "3.7.10"
  },
  "papermill": {
   "default_parameters": {},
   "duration": 377.849683,
   "end_time": "2021-09-23T11:30:40.966670",
   "environment_variables": {},
   "exception": null,
   "input_path": "__notebook__.ipynb",
   "output_path": "__notebook__.ipynb",
   "parameters": {},
   "start_time": "2021-09-23T11:24:23.116987",
   "version": "2.3.3"
  }
 },
 "nbformat": 4,
 "nbformat_minor": 5
}
